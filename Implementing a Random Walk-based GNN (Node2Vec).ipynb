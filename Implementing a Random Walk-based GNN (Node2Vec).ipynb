{
 "cells": [
  {
   "cell_type": "markdown",
   "id": "f016489f",
   "metadata": {},
   "source": [
    "\n",
    "### Objective: \n",
    "\n",
    "In this assignment, implement the Node2Vec algorithm, a random-walk-based GNN, to learn node embeddings. Train a classifier using the learned embeddings to predict node labels.\n",
    "\n",
    "### Dataset: \n",
    "\n",
    "Cora dataset: The dataset consists of 2,708 nodes (scientific publications) with 5,429 edges (citations between publications). Each node has a feature vector of size 1,433, and there are 7 classes (research topics).\n",
    "Skeleton Code:"
   ]
  },
  {
   "cell_type": "code",
   "execution_count": 1,
   "id": "c492a4a0",
   "metadata": {},
   "outputs": [
    {
     "name": "stderr",
     "output_type": "stream",
     "text": [
      "Computing transition probabilities: 100%|██████████| 2708/2708 [00:00<00:00, 5579.64it/s]\n",
      "Generating walks (CPU: 1): 100%|██████████| 100/100 [02:23<00:00,  1.43s/it]\n",
      "Generating walks (CPU: 2): 100%|██████████| 100/100 [02:23<00:00,  1.43s/it]\n",
      "/var/folders/rl/hnl6k6053sxb72xb666_fj5r0000gn/T/ipykernel_88283/1411892068.py:46: UserWarning: Creating a tensor from a list of numpy.ndarrays is extremely slow. Please consider converting the list to a single numpy.ndarray with numpy.array() before converting to a tensor. (Triggered internally at /Users/runner/work/_temp/anaconda/conda-bld/pytorch_1724788637225/work/torch/csrc/utils/tensor_new.cpp:281.)\n",
      "  output = classifier(torch.tensor([embeddings[str(i)] for i in range(data.num_nodes)]))\n"
     ]
    },
    {
     "name": "stdout",
     "output_type": "stream",
     "text": [
      "Epoch 0, Loss: 3.0836739540100098\n",
      "Epoch 10, Loss: 0.9797987341880798\n",
      "Epoch 20, Loss: 0.8204363584518433\n",
      "Epoch 30, Loss: 0.7555112242698669\n",
      "Epoch 40, Loss: 0.7229706645011902\n",
      "Epoch 50, Loss: 0.7069429755210876\n",
      "Epoch 60, Loss: 0.6987252831459045\n",
      "Epoch 70, Loss: 0.6932913661003113\n",
      "Epoch 80, Loss: 0.6893656849861145\n",
      "Epoch 90, Loss: 0.6862888932228088\n",
      "Training complete!\n"
     ]
    }
   ],
   "source": [
    "import torch\n",
    "import torch.nn as nn\n",
    "import torch.optim as optim\n",
    "from torch_geometric.datasets import Planetoid\n",
    "from torch_geometric.utils import to_networkx\n",
    "from node2vec import Node2Vec  # Importing Node2Vec for the random walk\n",
    "\n",
    "# Load the Cora dataset\n",
    "dataset = Planetoid(root='data/Cora', name='Cora')\n",
    "\n",
    "# Prepare data\n",
    "data = dataset[0]\n",
    "\n",
    "# Convert to networkx for random walk\n",
    "import networkx as nx\n",
    "G = to_networkx(data, to_undirected=True)\n",
    "\n",
    "# Node2Vec configuration\n",
    "node2vec = Node2Vec(G, dimensions=64, walk_length=30, num_walks=200, workers=2) \n",
    "# model = node2vec.fit(window=10, min_count=1)\n",
    "model = node2vec.fit(window=10, min_count=1, vector_size=64)\n",
    "\n",
    "# Embeddings for each node\n",
    "embeddings = model.wv  # Node embeddings\n",
    "\n",
    "# Define a simple classifier\n",
    "class Classifier(nn.Module):\n",
    "    def __init__(self, input_dim, output_dim):\n",
    "        super(Classifier, self).__init__()\n",
    "        self.fc = nn.Linear(input_dim, output_dim)\n",
    "\n",
    "    def forward(self, x):\n",
    "        return self.fc(x)\n",
    "\n",
    "# Initialize classifier and optimizer\n",
    "classifier = Classifier(64, 7)\n",
    "optimizer = optim.Adam(classifier.parameters(), lr=0.01)\n",
    "criterion = nn.CrossEntropyLoss()\n",
    "\n",
    "original_loss = []\n",
    "\n",
    "# Training loop\n",
    "for epoch in range(100):\n",
    "    classifier.train()\n",
    "    optimizer.zero_grad()\n",
    "    \n",
    "    # Get node embeddings as input\n",
    "    output = classifier(torch.tensor([embeddings[str(i)] for i in range(data.num_nodes)]))\n",
    "    \n",
    "    loss = criterion(output, data.y)\n",
    "    loss.backward()\n",
    "    optimizer.step()\n",
    "\n",
    "    if epoch % 10 == 0:\n",
    "        print(f'Epoch {epoch}, Loss: {loss.item()}')\n",
    "        original_loss.append(loss.item())\n",
    "\n",
    "print(\"Training complete!\")\n"
   ]
  },
  {
   "cell_type": "code",
   "execution_count": 3,
   "id": "2a304b1b",
   "metadata": {},
   "outputs": [],
   "source": [
    "# original_loss = [3.0836739540100098, 0.9797987341880798, 0.8204363584518433,\n",
    "#                  0.7555112242698669, 0.7229706645011902, 0.7069429755210876, \n",
    "#                  0.6987252831459045, 0.6932913661003113, 0.6893656849861145,\n",
    "#                  0.6862888932228088]"
   ]
  },
  {
   "cell_type": "markdown",
   "id": "818ee022",
   "metadata": {},
   "source": [
    "## Explanation:\n",
    "Node2Vec generates node embeddings by simulating random walks on the graph. These walks capture structural properties of nodes.\n",
    "The generated embeddings are then used to train a classifier for predicting node labels.\n",
    "The Cora dataset is a benchmark graph where nodes are papers and edges are citations."
   ]
  },
  {
   "cell_type": "markdown",
   "id": "200b3004",
   "metadata": {},
   "source": [
    "## Questions (1 point each):"
   ]
  },
  {
   "cell_type": "markdown",
   "id": "faf5f572",
   "metadata": {},
   "source": [
    "Notes:\n",
    "1. Generate multiple biased random walk for each node.\n",
    "    - Analogy to NLP: sequence -> NLP sentence, node -> word, neighborhood -> context\n",
    "2. Skim-gram, maximize probability of seeing context nodes for target nodes.\n",
    "3. Objective function: $$\\sum_{u \\in V} \\sum_{v \\in N_s(u)} \\log P(v|u)$$\n",
    "    - Node2Vec aim to maximize the objective function for all nodes.\n",
    "    - $V$ is the set of all nodes, $N_s(u)$ is the neighborhood of $u$, $P(v|u)$ is the probability of context node $v$ given $u$.\n",
    "    - $P(v|u)$ is approximated with softmax: $P(v|u) = \\frac{\\exp(z_v \\cdot z_u)}{\\sum_{v' \\in V} \\exp(z_v' \\cdot z_u)}$\n",
    "4. Negative sampling optimization: used to approximate softmax for all nodes.\n",
    "    - For each positive context node $v$, a few negative samples (nodes that are not in context of $u$) are drawn. The model maximizes the probability of $v$ while minimizing the probability of sample nodes. \n",
    "5. Backpropagation and update"
   ]
  },
  {
   "cell_type": "code",
   "execution_count": 5,
   "id": "6b334923",
   "metadata": {},
   "outputs": [],
   "source": [
    "import matplotlib.pyplot as plt"
   ]
  },
  {
   "cell_type": "markdown",
   "id": "f1353dee",
   "metadata": {},
   "source": [
    "#### 1. What would happen if we increased the number of walks (num_walks) per node? How might this affect the learned embeddings?"
   ]
  },
  {
   "cell_type": "markdown",
   "id": "30cf8f19",
   "metadata": {},
   "source": [
    "If we increase the number of walks per node, there will be more data about each node's neighborhood as more node sequences will be produced. \n",
    "\n",
    "The model may learn the embeddings of a node better as it is provided with more context information about the node's neighborhood. However, the training cost will increase and there is also a potential for overfitting. "
   ]
  },
  {
   "cell_type": "code",
   "execution_count": 6,
   "id": "8105a1ef",
   "metadata": {},
   "outputs": [
    {
     "name": "stderr",
     "output_type": "stream",
     "text": [
      "Computing transition probabilities: 100%|██████████| 2708/2708 [00:00<00:00, 9818.93it/s]\n",
      "Generating walks (CPU: 2): 100%|██████████| 200/200 [05:49<00:00,  1.75s/it]\n",
      "Generating walks (CPU: 1): 100%|██████████| 200/200 [05:51<00:00,  1.76s/it]\n"
     ]
    }
   ],
   "source": [
    "# increase number of walks\n",
    "node2vec_more_walks = Node2Vec(G, dimensions=64, walk_length=30, num_walks=400, workers=2)\n",
    "model_more_walks = node2vec_more_walks.fit(window=10, min_count=1, vector_size=64)\n",
    "\n",
    "embeddings_more_walks = model_more_walks.wv\n",
    "\n",
    "classifier_more_walks = Classifier(64, 7)\n",
    "optimizer_more_walks = optim.Adam(classifier_more_walks.parameters(), lr=0.01)"
   ]
  },
  {
   "cell_type": "code",
   "execution_count": 7,
   "id": "309dd134",
   "metadata": {},
   "outputs": [
    {
     "name": "stdout",
     "output_type": "stream",
     "text": [
      "Epoch 0, Loss (More Walks): 3.2086994647979736\n",
      "Epoch 10, Loss (More Walks): 0.9668700098991394\n",
      "Epoch 20, Loss (More Walks): 0.7830494046211243\n",
      "Epoch 30, Loss (More Walks): 0.723023533821106\n",
      "Epoch 40, Loss (More Walks): 0.6963661313056946\n",
      "Epoch 50, Loss (More Walks): 0.6798729300498962\n",
      "Epoch 60, Loss (More Walks): 0.671376645565033\n",
      "Epoch 70, Loss (More Walks): 0.6658375859260559\n",
      "Epoch 80, Loss (More Walks): 0.6619228720664978\n",
      "Epoch 90, Loss (More Walks): 0.6588699817657471\n"
     ]
    }
   ],
   "source": [
    "loss_more_walks = []\n",
    "\n",
    "for epoch in range(100):\n",
    "    classifier_more_walks.train()\n",
    "    optimizer_more_walks.zero_grad()\n",
    "    \n",
    "    output_high_walks = classifier_more_walks(torch.tensor([embeddings_more_walks[str(i)] for i in range(data.num_nodes)]))\n",
    "    \n",
    "    loss = criterion(output_high_walks, data.y)\n",
    "    loss.backward()\n",
    "    optimizer_more_walks.step()\n",
    "\n",
    "    if epoch % 10 == 0:\n",
    "        print(f'Epoch {epoch}, Loss (More Walks): {loss.item()}')\n",
    "        loss_more_walks.append(loss.item())"
   ]
  },
  {
   "cell_type": "code",
   "execution_count": 8,
   "id": "04024551",
   "metadata": {},
   "outputs": [
    {
     "data": {
      "image/png": "[encoded data removed]",
      "text/plain": [
       "<Figure size 640x480 with 1 Axes>"
      ]
     },
     "metadata": {},
     "output_type": "display_data"
    }
   ],
   "source": [
    "epochs = range(0, 100, 10)\n",
    "\n",
    "plt.plot(epochs, original_loss, label=\"Original Walks (200)\")\n",
    "plt.plot(epochs, loss_more_walks, label=\"Increased Walks (400)\")\n",
    "plt.xlabel('Epoch')\n",
    "plt.ylabel('Loss')\n",
    "plt.title('Training Loss Comparison with Increased num_walks')\n",
    "plt.legend()\n",
    "plt.show()"
   ]
  },
  {
   "cell_type": "code",
   "execution_count": null,
   "id": "6c1a25a3",
   "metadata": {},
   "outputs": [],
   "source": []
  },
  {
   "cell_type": "markdown",
   "id": "40a21121",
   "metadata": {},
   "source": [
    "#### 2. What would happen if we reduced the walk length (walk_length)? How would this influence the structural information captured by the embeddings?\n"
   ]
  },
  {
   "cell_type": "markdown",
   "id": "673019ad",
   "metadata": {},
   "source": [
    "If we reduce the walk length, the distance of random walks from each node is restricted. Longer node sequences are not included in the model training process, which make the embeddings more reflective of local information instead of broader ones. \n",
    "\n",
    "This will affect the model's ability to learn global graph structure. The model may focus more on the local context and capture more details about local community structure."
   ]
  },
  {
   "cell_type": "code",
   "execution_count": 9,
   "id": "5867e0e0",
   "metadata": {},
   "outputs": [
    {
     "name": "stderr",
     "output_type": "stream",
     "text": [
      "Computing transition probabilities: 100%|██████████| 2708/2708 [00:00<00:00, 10049.24it/s]\n",
      "Generating walks (CPU: 1): 100%|██████████| 100/100 [01:09<00:00,  1.45it/s]\n",
      "Generating walks (CPU: 2): 100%|██████████| 100/100 [01:09<00:00,  1.44it/s]\n"
     ]
    }
   ],
   "source": [
    "# reduce walk length\n",
    "node2vec_short_walks = Node2Vec(G, dimensions=64, walk_length=15, num_walks=200, workers=2)\n",
    "model_short_walks = node2vec_short_walks.fit(window=10, min_count=1, vector_size=64)\n",
    "\n",
    "embeddings_short_walks = model_short_walks.wv\n",
    "\n",
    "classifier_short_walks = Classifier(64, 7)\n",
    "optimizer_short_walks = optim.Adam(classifier_short_walks.parameters(), lr=0.01)"
   ]
  },
  {
   "cell_type": "code",
   "execution_count": null,
   "id": "ae7d296a",
   "metadata": {},
   "outputs": [],
   "source": []
  },
  {
   "cell_type": "code",
   "execution_count": null,
   "id": "9dc2718e",
   "metadata": {},
   "outputs": [],
   "source": []
  },
  {
   "cell_type": "code",
   "execution_count": null,
   "id": "c104df19",
   "metadata": {},
   "outputs": [],
   "source": []
  },
  {
   "cell_type": "markdown",
   "id": "158e5b54",
   "metadata": {},
   "source": [
    "#### 3. What would happen if we used directed edges instead of undirected edges for the random walks?\n"
   ]
  },
  {
   "cell_type": "markdown",
   "id": "69137ff2",
   "metadata": {},
   "source": [
    "Using directed edges means that the walks must follow certain directions on each edge, which can significantly restrict the possible walk paths. The model will learn directional structures instead of undirected ones. However, it may miss some details about the global context that an undirected model can capture."
   ]
  },
  {
   "cell_type": "code",
   "execution_count": null,
   "id": "31a9a51b",
   "metadata": {},
   "outputs": [],
   "source": []
  },
  {
   "cell_type": "markdown",
   "id": "23d790d4",
   "metadata": {},
   "source": [
    "#### 4. What would happen if we added more features to the nodes (e.g., 2000-dimensional features instead of 1433)?\n"
   ]
  },
  {
   "cell_type": "markdown",
   "id": "43f17cc7",
   "metadata": {},
   "source": [
    "Adding more features to the nodes may provide more information about the nodes, allowing the model to learn more details. The model's performance may improve as it captures more subtle differences among the nodes. However, there is also a risk for overfitting and the training time will increase. "
   ]
  },
  {
   "cell_type": "code",
   "execution_count": null,
   "id": "92eb7d97",
   "metadata": {},
   "outputs": [],
   "source": []
  },
  {
   "cell_type": "markdown",
   "id": "bdaf99db",
   "metadata": {},
   "source": [
    "#### 5. What would happen if we used a different dataset with more classes? Would the classifier performance change significantly?\n"
   ]
  },
  {
   "cell_type": "markdown",
   "id": "ed661758",
   "metadata": {},
   "source": [
    "Using another dataset with more classes may decrease the classifier's performance as there are more possible classification targets. The model have to learn more diversity within the provided nodes to be able to distinguish among different classes."
   ]
  },
  {
   "cell_type": "code",
   "execution_count": null,
   "id": "7f1615a3",
   "metadata": {},
   "outputs": [],
   "source": []
  },
  {
   "cell_type": "markdown",
   "id": "e4e1b707",
   "metadata": {},
   "source": [
    "#### 6. What would happen if we used a larger embedding dimension (e.g., 128 instead of 64)? How would this affect the model’s performance and training time?\n"
   ]
  },
  {
   "cell_type": "markdown",
   "id": "d3b7697c",
   "metadata": {},
   "source": [
    "Using a larger embedding dimension would increase the model's training time as well as needed memory as more computation is needed. However, it may improve the model's performance as it may increase the model's capacity to learn the complex relationships between nodes better, thus to better learn the graph structure.  "
   ]
  },
  {
   "cell_type": "code",
   "execution_count": null,
   "id": "4cfd1253",
   "metadata": {},
   "outputs": [],
   "source": []
  },
  {
   "cell_type": "code",
   "execution_count": null,
   "id": "9941a051",
   "metadata": {},
   "outputs": [],
   "source": []
  },
  {
   "cell_type": "markdown",
   "id": "67dfdf33",
   "metadata": {},
   "source": [
    "### Extra credit: \n"
   ]
  },
  {
   "cell_type": "markdown",
   "id": "4c764a47",
   "metadata": {},
   "source": [
    "#### 1. What would happen if we increased the window size (window) for the skip-gram model? How would it affect the embedding quality?\n"
   ]
  },
  {
   "cell_type": "markdown",
   "id": "0adb0f52",
   "metadata": {},
   "source": [
    "The window size determines the number of nodes considered as context (or neighbor) nodes for one node. If we increase the window size for the skip-gram model, the model may consider larger neighborhoods around each target node. This may allow the model to learn more about the global structure of the graph, while focus less on the local details. \n",
    "\n",
    "The embedding quality may decrease since more nodes are considered neighbors and more initial variations will be included into the embedding learning process. This will also increase the computational cost and training time."
   ]
  },
  {
   "cell_type": "code",
   "execution_count": null,
   "id": "fba0548b",
   "metadata": {},
   "outputs": [],
   "source": []
  },
  {
   "cell_type": "code",
   "execution_count": null,
   "id": "3c46737b",
   "metadata": {},
   "outputs": [],
   "source": []
  },
  {
   "cell_type": "markdown",
   "id": "769ba926",
   "metadata": {},
   "source": [
    "potentially make the embeddings more generalized"
   ]
  },
  {
   "cell_type": "code",
   "execution_count": null,
   "id": "d81bcdda",
   "metadata": {},
   "outputs": [],
   "source": []
  },
  {
   "cell_type": "markdown",
   "id": "1e1a239b",
   "metadata": {},
   "source": [
    "## No points, just for you to think about"
   ]
  },
  {
   "cell_type": "markdown",
   "id": "b182343c",
   "metadata": {},
   "source": [
    "#### 1. What would happen if we removed self-loops from the graph before training Node2Vec?\n"
   ]
  },
  {
   "cell_type": "code",
   "execution_count": null,
   "id": "d913a9ab",
   "metadata": {},
   "outputs": [],
   "source": []
  },
  {
   "cell_type": "markdown",
   "id": "c5fcd5ba",
   "metadata": {},
   "source": [
    "#### 2. What would happen if we applied normalization to the node embeddings before feeding them to the classifier?"
   ]
  },
  {
   "cell_type": "code",
   "execution_count": null,
   "id": "d2044a84",
   "metadata": {},
   "outputs": [],
   "source": []
  },
  {
   "cell_type": "code",
   "execution_count": null,
   "id": "0c1a4e0d",
   "metadata": {},
   "outputs": [],
   "source": []
  },
  {
   "cell_type": "code",
   "execution_count": null,
   "id": "1b97fd32",
   "metadata": {},
   "outputs": [],
   "source": []
  }
 ],
 "metadata": {
  "kernelspec": {
   "display_name": "Python 3 (ipykernel)",
   "language": "python",
   "name": "python3"
  },
  "language_info": {
   "codemirror_mode": {
    "name": "ipython",
    "version": 3
   },
   "file_extension": ".py",
   "mimetype": "text/x-python",
   "name": "python",
   "nbconvert_exporter": "python",
   "pygments_lexer": "ipython3",
   "version": "3.9.20"
  }
 },
 "nbformat": 4,
 "nbformat_minor": 5
}
